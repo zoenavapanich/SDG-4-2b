{
 "cells": [
  {
   "attachments": {},
   "cell_type": "markdown",
   "metadata": {},
   "source": [
    "# Indicator 2b Database\n",
    "\n",
    "This database contains information about all native *fauna* in LA City boundaries\n",
    "\n",
    "## Data Source\n",
    "This is **unmanicured** data from *iNaturalist* to be edited via python pandas.\n",
    "I also have an edited csv of this dataset, manicured to tab delimit and remove unneccessary columns\n",
    "\n",
    "### This table currently shows all GBIF columns\n",
    "\n",
    "*species specific data cells and other columns will be added and populated later. the reason I am choosing to code for the raw data instead of from the csv I have already fixed is because I want to create a base code that can be applied to any csv directly as it has been downloaded from GBIF\n",
    "\n",
    "data has been pulled from   \n",
    "GBIF.org (16 June 2020) GBIF Occurrence Download https://urldefense.com/v3/__https://doi.org/10.15468/dl.qnw9s7__;!!LIr3w8kk_Xxm!4YN9oiMkLuXGPeb5uNw24nIcvAKUnjb1DnOy7y_BR3FKOLnSBJWRl4EgaAxvKZc$"
   ]
  },
  {
   "cell_type": "code",
   "execution_count": 49,
   "metadata": {
    "scrolled": true
   },
   "outputs": [
    {
     "name": "stdout",
     "output_type": "stream",
     "text": [
      "       gbifID\\tdatasetKey\\toccurrenceID\\tkingdom\\tphylum\\tclass\\torder\\tfamily\\tgenus\\tspecies\\tinfraspecificEpithet\\ttaxonRank\\tscientificName\\tverbatimScientificName\\tverbatimScientificNameAuthorship\\tcountryCode\\tlocality\\tstateProvince\\toccurrenceStatus\\tindividualCount\\tpublishingOrgKey\\tdecimalLatitude\\tdecimalLongitude\\tcoordinateUncertaintyInMeters\\tcoordinatePrecision\\televation\\televationAccuracy\\tdepth\\tdepthAccuracy\\teventDate\\tday\\tmonth\\tyear\\ttaxonKey\\tspeciesKey\\tbasisOfRecord\\tinstitutionCode\\tcollectionCode\\tcatalogNumber\\trecordNumber\\tidentifiedBy\\tdateIdentified\\tlicense\\trightsHolder\\trecordedBy\\ttypeStatus\\testablishmentMeans\\tlastInterpreted\\tmediaType\\tissue  \\\n",
      "0       2422952974\\t50c9509d-22c7-4a22-a47d-8c48425ef4...                                                                                                                                                                                                                                                                                                                                                                                                                                                                                                                                                                                                                                                             \n",
      "1       2620171593\\t50c9509d-22c7-4a22-a47d-8c48425ef4...                                                                                                                                                                                                                                                                                                                                                                                                                                                                                                                                                                                                                                                             \n",
      "2       2634024720\\t50c9509d-22c7-4a22-a47d-8c48425ef4...                                                                                                                                                                                                                                                                                                                                                                                                                                                                                                                                                                                                                                                             \n",
      "3       1227765262\\t50c9509d-22c7-4a22-a47d-8c48425ef4...                                                                                                                                                                                                                                                                                                                                                                                                                                                                                                                                                                                                                                                             \n",
      "4       1253302707\\t50c9509d-22c7-4a22-a47d-8c48425ef4...                                                                                                                                                                                                                                                                                                                                                                                                                                                                                                                                                                                                                                                             \n",
      "...                                                   ...                                                                                                                                                                                                                                                                                                                                                                                                                                                                                                                                                                                                                                                             \n",
      "122656  1913180633\\t50c9509d-22c7-4a22-a47d-8c48425ef4...                                                                                                                                                                                                                                                                                                                                                                                                                                                                                                                                                                                                                                                             \n",
      "122657  1920829346\\t50c9509d-22c7-4a22-a47d-8c48425ef4...                                                                                                                                                                                                                                                                                                                                                                                                                                                                                                                                                                                                                                                             \n",
      "122658  1948754814\\t50c9509d-22c7-4a22-a47d-8c48425ef4...                                                                                                                                                                                                                                                                                                                                                                                                                                                                                                                                                                                                                                                             \n",
      "122659  2251981142\\t50c9509d-22c7-4a22-a47d-8c48425ef4...                                                                                                                                                                                                                                                                                                                                                                                                                                                                                                                                                                                                                                                             \n",
      "122660  2265826667\\t50c9509d-22c7-4a22-a47d-8c48425ef4...                                                                                                                                                                                                                                                                                                                                                                                                                                                                                                                                                                                                                                                             \n",
      "\n",
      "                                               Unnamed: 1 Unnamed: 2  \\\n",
      "0        1758\\tSciurus niger\\t\\tUS\\t\\tCalifornia\\t\\t\\t...        NaN   \n",
      "1        1823)\\tAratinga nenday\\t\\tUS\\t\\tCalifornia\\t\\...        NaN   \n",
      "2        1822\\tCorvus brachyrhynchos\\t\\tUS\\t\\tCaliforn...        NaN   \n",
      "3        1852\\tSceloporus occidentalis\\t\\tUS\\t\\tCalifo...        NaN   \n",
      "4        1766)\\tAgelaius phoeniceus\\t\\tUS\\t\\tCaliforni...        NaN   \n",
      "...                                                   ...        ...   \n",
      "122656   1828)\\tZalophus californianus\\t\\tUS\\t\\tCalifo...        NaN   \n",
      "122657   1852\\tSceloporus occidentalis\\t\\tUS\\t\\tCalifo...        NaN   \n",
      "122658   1789)\\tPhalacrocorax brasilianus\\t\\tUS\\t\\tCal...        NaN   \n",
      "122659   1758\\tArdea herodias\\t\\tUS\\t\\tCalifornia\\t\\t\\...        NaN   \n",
      "122660   1840\\tPachygrapsus crassipes\\t\\tUS\\t\\tCalifor...        NaN   \n",
      "\n",
      "       Unnamed: 3 Unnamed: 4 Unnamed: 5 Unnamed: 6 Unnamed: 7 Unnamed: 8  \\\n",
      "0             NaN        NaN        NaN        NaN        NaN        NaN   \n",
      "1             NaN        NaN        NaN        NaN        NaN        NaN   \n",
      "2             NaN        NaN        NaN        NaN        NaN        NaN   \n",
      "3             NaN        NaN        NaN        NaN        NaN        NaN   \n",
      "4             NaN        NaN        NaN        NaN        NaN        NaN   \n",
      "...           ...        ...        ...        ...        ...        ...   \n",
      "122656        NaN        NaN        NaN        NaN        NaN        NaN   \n",
      "122657        NaN        NaN        NaN        NaN        NaN        NaN   \n",
      "122658        NaN        NaN        NaN        NaN        NaN        NaN   \n",
      "122659        NaN        NaN        NaN        NaN        NaN        NaN   \n",
      "122660        NaN        NaN        NaN        NaN        NaN        NaN   \n",
      "\n",
      "       Unnamed: 9  \n",
      "0             NaN  \n",
      "1             NaN  \n",
      "2             NaN  \n",
      "3             NaN  \n",
      "4             NaN  \n",
      "...           ...  \n",
      "122656        NaN  \n",
      "122657        NaN  \n",
      "122658        NaN  \n",
      "122659        NaN  \n",
      "122660        NaN  \n",
      "\n",
      "[122661 rows x 10 columns]\n"
     ]
    }
   ],
   "source": [
    "# This is where I imported the data from iNat, from where it is saved (in the same dir as this notebook on my computer)\n",
    "#    I had to manually remove line 191 from the raw data file due to a rogue character which caused a tokenizing error\n",
    "#\n",
    "# FOR FUTURE: if this code is run with a new/updated data set that also contains a rogue character:\n",
    "#    python will identify the parser error and that line can be manually deleted in excel, saved, and run through this program.\n",
    "# \n",
    "#used this code in Anaconda Prompt to pull up this database:\n",
    "#    mkdir 2b \n",
    "#    cd 2b\n",
    "#    jupyter notebook\n",
    "#\n",
    "#the print line displays the database\n",
    "\n",
    "import pandas as pd\n",
    "df = pd.read_csv('iNatraw.csv', low_memory=False)\n",
    "\n",
    "print(df)"
   ]
  }
 ],
 "metadata": {
  "kernelspec": {
   "display_name": "Python 3",
   "language": "python",
   "name": "python3"
  },
  "language_info": {
   "codemirror_mode": {
    "name": "ipython",
    "version": 3
   },
   "file_extension": ".py",
   "mimetype": "text/x-python",
   "name": "python",
   "nbconvert_exporter": "python",
   "pygments_lexer": "ipython3",
   "version": "3.7.6"
  }
 },
 "nbformat": 4,
 "nbformat_minor": 4
}
